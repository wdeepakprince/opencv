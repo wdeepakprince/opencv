{
  "nbformat": 4,
  "nbformat_minor": 0,
  "metadata": {
    "colab": {
      "provenance": [],
      "authorship_tag": "ABX9TyP/PAQuj/VbZTF/XCrlRtnc",
      "include_colab_link": true
    },
    "kernelspec": {
      "name": "python3",
      "display_name": "Python 3"
    },
    "language_info": {
      "name": "python"
    }
  },
  "cells": [
    {
      "cell_type": "markdown",
      "metadata": {
        "id": "view-in-github",
        "colab_type": "text"
      },
      "source": [
        "<a href=\"https://colab.research.google.com/github/wdeepakprince/opencv/blob/main/OpenCV_Capture_Webcam_Video.ipynb\" target=\"_parent\"><img src=\"https://colab.research.google.com/assets/colab-badge.svg\" alt=\"Open In Colab\"/></a>"
      ]
    },
    {
      "cell_type": "code",
      "execution_count": 1,
      "metadata": {
        "id": "TrrQTLRbEQjs"
      },
      "outputs": [],
      "source": [
        "import cv2\n",
        "\n",
        "cap = cv2.VideoCapture(0)\n",
        "while True:\n",
        "    # # Read a frame and return a boolean; 'true' if read, else 'fasle'; 2nd return is on frame captured\n",
        "    ret, frame = cap.read()\n",
        "\n",
        "    if not ret:\n",
        "        break\n",
        "\n",
        "    # show that one frame which is returned above from webcam & keep looping inside while loop\n",
        "    cv2.imshow('Webcam Feed -  Press \"q\" to quit', frame)\n",
        "\n",
        "    # Exit on pressing 'q'\n",
        "    # For the lowercase letter q, the ASCII code is 113 in decimal and 71 in hexadecimal.\n",
        "    # Condider below condition with Operator precedence as :: ( cv2.waitKey(1) & 0xFF) == (ord('q'):)\n",
        "    if cv2.waitKey(1) & 0xFF == ord('q'):\n",
        "        break\n",
        "\n",
        "# Release the capture and close windows\n",
        "cap.release()\n",
        "cv2.destroyAllWindows()"
      ]
    }
  ]
}